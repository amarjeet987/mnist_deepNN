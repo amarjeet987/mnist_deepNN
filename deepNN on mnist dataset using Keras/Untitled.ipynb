{
 "cells": [
  {
   "cell_type": "code",
   "execution_count": 1,
   "metadata": {},
   "outputs": [
    {
     "name": "stderr",
     "output_type": "stream",
     "text": [
      "Using TensorFlow backend.\n"
     ]
    }
   ],
   "source": [
    "import keras\n",
    "from keras.models import Sequential\n",
    "from keras.datasets import mnist\n",
    "from keras.layers import Dense, Dropout\n",
    "from keras.optimizers import SGD\n",
    "from keras import utils\n",
    "import numpy as np\n",
    "import matplotlib.pyplot as plt"
   ]
  },
  {
   "cell_type": "code",
   "execution_count": 2,
   "metadata": {},
   "outputs": [],
   "source": [
    "(x_train, y_train), (x_test, y_test) = mnist.load_data()"
   ]
  },
  {
   "cell_type": "code",
   "execution_count": 44,
   "metadata": {},
   "outputs": [],
   "source": [
    "n_classes = 10\n",
    "n_inputs = 784\n",
    "batch_size = 100\n",
    "n_epochs = 10"
   ]
  },
  {
   "cell_type": "code",
   "execution_count": 3,
   "metadata": {},
   "outputs": [
    {
     "data": {
      "text/plain": [
       "(60000, 28, 28)"
      ]
     },
     "execution_count": 3,
     "metadata": {},
     "output_type": "execute_result"
    }
   ],
   "source": [
    "x_train.shape"
   ]
  },
  {
   "cell_type": "code",
   "execution_count": 40,
   "metadata": {},
   "outputs": [],
   "source": [
    "x_train = x_train.reshape(x_train.shape[0], n_inputs) / 255\n",
    "x_test = x_test.reshape(x_test.shape[0], n_inputs) / 255\n",
    "\n",
    "y_train = utils.to_categorical(y_train, n_classes)\n",
    "y_test = utils.to_categorical(y_test, n_classes)"
   ]
  },
  {
   "cell_type": "code",
   "execution_count": 42,
   "metadata": {},
   "outputs": [],
   "source": [
    "# building the model\n",
    "\n",
    "model = Sequential()\n",
    "\n",
    "model.add(Dense(units = 128, activation = \"sigmoid\", input_shape=(n_inputs, )))\n",
    "model.add(Dropout(0.1))\n",
    "model.add(Dense(units = 128, activation = \"sigmoid\"))\n",
    "model.add(Dropout(0.1))\n",
    "model.add(Dense(units = n_classes, activation = \"softmax\"))"
   ]
  },
  {
   "cell_type": "code",
   "execution_count": 43,
   "metadata": {},
   "outputs": [
    {
     "name": "stdout",
     "output_type": "stream",
     "text": [
      "_________________________________________________________________\n",
      "Layer (type)                 Output Shape              Param #   \n",
      "=================================================================\n",
      "dense_2 (Dense)              (None, 128)               100480    \n",
      "_________________________________________________________________\n",
      "dropout_1 (Dropout)          (None, 128)               0         \n",
      "_________________________________________________________________\n",
      "dense_3 (Dense)              (None, 128)               16512     \n",
      "_________________________________________________________________\n",
      "dropout_2 (Dropout)          (None, 128)               0         \n",
      "_________________________________________________________________\n",
      "dense_4 (Dense)              (None, 10)                1290      \n",
      "=================================================================\n",
      "Total params: 118,282\n",
      "Trainable params: 118,282\n",
      "Non-trainable params: 0\n",
      "_________________________________________________________________\n"
     ]
    }
   ],
   "source": [
    "model.summary()"
   ]
  },
  {
   "cell_type": "code",
   "execution_count": 46,
   "metadata": {},
   "outputs": [
    {
     "name": "stdout",
     "output_type": "stream",
     "text": [
      "Epoch 1/10\n",
      "60000/60000 [==============================] - 3s 49us/step - loss: 0.8751 - acc: 0.7480\n",
      "Epoch 2/10\n",
      "60000/60000 [==============================] - 2s 41us/step - loss: 0.8149 - acc: 0.7623\n",
      "Epoch 3/10\n",
      "60000/60000 [==============================] - 2s 41us/step - loss: 0.7619 - acc: 0.7816\n",
      "Epoch 4/10\n",
      "60000/60000 [==============================] - 3s 42us/step - loss: 0.7202 - acc: 0.7905\n",
      "Epoch 5/10\n",
      "60000/60000 [==============================] - 2s 42us/step - loss: 0.6824 - acc: 0.8025\n",
      "Epoch 6/10\n",
      "60000/60000 [==============================] - 2s 40us/step - loss: 0.6519 - acc: 0.8076\n",
      "Epoch 7/10\n",
      "60000/60000 [==============================] - 2s 42us/step - loss: 0.6234 - acc: 0.8156\n",
      "Epoch 8/10\n",
      "60000/60000 [==============================] - 2s 41us/step - loss: 0.6000 - acc: 0.8240\n",
      "Epoch 9/10\n",
      "60000/60000 [==============================] - 3s 49us/step - loss: 0.5780 - acc: 0.8306\n",
      "Epoch 10/10\n",
      "60000/60000 [==============================] - 2s 41us/step - loss: 0.5607 - acc: 0.8351\n",
      "60000/60000 [==============================] - 3s 44us/step\n",
      "Loss : 0.49218749619325003\n",
      "Accuracy :0.8668833333333333\n"
     ]
    }
   ],
   "source": [
    "# set loss function and optimizer\n",
    "\n",
    "model.compile(loss = \"categorical_crossentropy\", optimizer = SGD(), metrics = ['accuracy'])\n",
    "\n",
    "# train the model\n",
    "\n",
    "model.fit(x_train, y_train, batch_size = batch_size, epochs = n_epochs)\n",
    "\n",
    "# check how well it trainerd\n",
    "\n",
    "scores = model.evaluate(x_train, y_train)\n",
    "\n",
    "print(\"Loss : \" + str(scores[0]))\n",
    "print(\"Accuracy :\" + str(scores[1]))"
   ]
  },
  {
   "cell_type": "code",
   "execution_count": null,
   "metadata": {},
   "outputs": [],
   "source": []
  }
 ],
 "metadata": {
  "kernelspec": {
   "display_name": "Python 3",
   "language": "python",
   "name": "python3"
  },
  "language_info": {
   "codemirror_mode": {
    "name": "ipython",
    "version": 3
   },
   "file_extension": ".py",
   "mimetype": "text/x-python",
   "name": "python",
   "nbconvert_exporter": "python",
   "pygments_lexer": "ipython3",
   "version": "3.6.2"
  }
 },
 "nbformat": 4,
 "nbformat_minor": 2
}
